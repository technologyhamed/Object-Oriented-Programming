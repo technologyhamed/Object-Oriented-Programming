{
  "nbformat": 4,
  "nbformat_minor": 0,
  "metadata": {
    "colab": {
      "private_outputs": true,
      "provenance": [],
      "authorship_tag": "ABX9TyPuypdyUvtmMq1DkLGml1qD",
      "include_colab_link": true
    },
    "kernelspec": {
      "name": "python3",
      "display_name": "Python 3"
    },
    "language_info": {
      "name": "python"
    }
  },
  "cells": [
    {
      "cell_type": "markdown",
      "metadata": {
        "id": "view-in-github",
        "colab_type": "text"
      },
      "source": [
        "<a href=\"https://colab.research.google.com/github/technologyhamed/Object-Oriented-Programming/blob/main/docs_python/tutorial/An_Informal_Introduction_to_Python.ipynb\" target=\"_parent\"><img src=\"https://colab.research.google.com/assets/colab-badge.svg\" alt=\"Open In Colab\"/></a>"
      ]
    },
    {
      "cell_type": "code",
      "execution_count": null,
      "metadata": {
        "id": "wxnl4nI-Pcf0"
      },
      "outputs": [],
      "source": [
        "# -*- coding: utf-8 -*-"
      ]
    },
    {
      "cell_type": "code",
      "source": [
        "print(\"\"\"\\\n",
        "Usage: thingy [OPTIONS]\n",
        "     -h                        Display this usage message\n",
        "     -H hostname               Hostname to connect to\n",
        "\"\"\")"
      ],
      "metadata": {
        "id": "jxn3-dp8-utS"
      },
      "execution_count": null,
      "outputs": []
    },
    {
      "cell_type": "code",
      "source": [
        "# 3 times 'un', followed by 'ium'\n",
        "3 * 'un' + 'ium'"
      ],
      "metadata": {
        "id": "LBb2efIA_X2r"
      },
      "execution_count": null,
      "outputs": []
    },
    {
      "cell_type": "code",
      "source": [
        "'Py' 'thon'"
      ],
      "metadata": {
        "id": "p2gxw9qM_t8A"
      },
      "execution_count": null,
      "outputs": []
    },
    {
      "cell_type": "markdown",
      "source": [
        "This only works with two literals though, not with variables or expressions:"
      ],
      "metadata": {
        "id": "bO2UzPDBAWdw"
      }
    },
    {
      "cell_type": "code",
      "source": [
        "text = ('Put several strings within parentheses '\n",
        "        'to have them joined together.')\n",
        "text"
      ],
      "metadata": {
        "id": "CKqKRT4vAIwA"
      },
      "execution_count": null,
      "outputs": []
    },
    {
      "cell_type": "markdown",
      "source": [
        "Strings can be indexed (subscripted), with the first character having index 0. There is no separate character type; a character is simply a string of size one:"
      ],
      "metadata": {
        "id": "2HBQSnjNAph1"
      }
    },
    {
      "cell_type": "code",
      "source": [
        "word = 'Python'\n",
        "word[0]  # character in position 0\n",
        "word[5]  # character in position 5\n",
        "print(word[0],word[5])\n",
        "print(word[-1],word[-2],word[-6])\n",
        "print(word[0:2],word[2:5])\n"
      ],
      "metadata": {
        "id": "kwytc_IDAOdw"
      },
      "execution_count": null,
      "outputs": []
    },
    {
      "cell_type": "markdown",
      "source": [
        "Simple assignment in Python never copies data. When you assign a list to a variable, the variable refers to the existing list. Any changes you make to the list through one variable will be seen through all other variables that refer to it.:"
      ],
      "metadata": {
        "id": "LrvJDFkFXv8c"
      }
    },
    {
      "cell_type": "code",
      "source": [
        "rgb = [\"Red\", \"Green\", \"Blue\"]\n",
        "rgba = rgb\n",
        "id(rgb) == id(rgba)  # they reference the same object\n",
        "\n",
        "rgba.append(\"Alph\")\n",
        "rgb\n",
        "\n",
        "print(id(rgb)==id(rgba))"
      ],
      "metadata": {
        "id": "iCuy7uKCfl_w"
      },
      "execution_count": null,
      "outputs": []
    },
    {
      "cell_type": "markdown",
      "source": [
        "All slice operations return a new list containing the requested elements. This means that the following slice returns a shallow copy of the list:"
      ],
      "metadata": {
        "id": "y0Oa--8zZLOp"
      }
    },
    {
      "cell_type": "code",
      "source": [
        "letters = ['a', 'b', 'c', 'd', 'e', 'f', 'g']\n",
        "letters\n",
        "# replace some values\n",
        "letters[2:5] = ['C', 'D', 'E']\n",
        "letters"
      ],
      "metadata": {
        "id": "-V_7mIEPZ_Je"
      },
      "execution_count": null,
      "outputs": []
    },
    {
      "cell_type": "code",
      "source": [
        "a = ['a', 'b', 'c']\n",
        "n = [1, 2, 3]\n",
        "x = [a, n]\n",
        "print(x[0])\n",
        "print(x[0][1])"
      ],
      "metadata": {
        "id": "xD4DqqIwZ_6O"
      },
      "execution_count": null,
      "outputs": []
    }
  ]
}