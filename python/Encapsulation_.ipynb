{
  "nbformat": 4,
  "nbformat_minor": 0,
  "metadata": {
    "colab": {
      "private_outputs": true,
      "provenance": [],
      "authorship_tag": "ABX9TyNcAlr+gJ3V2qOAXjpjbKpl",
      "include_colab_link": true
    },
    "kernelspec": {
      "name": "python3",
      "display_name": "Python 3"
    },
    "language_info": {
      "name": "python"
    }
  },
  "cells": [
    {
      "cell_type": "markdown",
      "metadata": {
        "id": "view-in-github",
        "colab_type": "text"
      },
      "source": [
        "<a href=\"https://colab.research.google.com/github/technologyhamed/Object-Oriented-Programming/blob/main/python/Encapsulation_.ipynb\" target=\"_parent\"><img src=\"https://colab.research.google.com/assets/colab-badge.svg\" alt=\"Open In Colab\"/></a>"
      ]
    },
    {
      "cell_type": "code",
      "execution_count": null,
      "metadata": {
        "id": "e_BfUmnvAVx5"
      },
      "outputs": [],
      "source": [
        "from abc import ABC , abstractmethod"
      ]
    },
    {
      "cell_type": "code",
      "source": [
        "class Person:\n",
        "  def __init__(self,age) :\n",
        "    self.__age = age\n",
        "  def getattr_age(self) :\n",
        "    return self.__age\n",
        "\n",
        "  def setattr_age(self,value):\n",
        "    self.__age=value\n",
        "\n",
        "  def delattr_age(self)  :\n",
        "    del self.__age"
      ],
      "metadata": {
        "id": "Ugegp-2iLAQv"
      },
      "execution_count": null,
      "outputs": []
    },
    {
      "cell_type": "code",
      "source": [
        "p=Person(32)\n",
        "print(p.getattr_age())\n",
        "p.setattr_age(40)\n",
        "print(p.getattr_age())"
      ],
      "metadata": {
        "id": "1H7dN_hZQ-qa"
      },
      "execution_count": null,
      "outputs": []
    },
    {
      "cell_type": "code",
      "source": [
        "from logging import error\n",
        "class Human:\n",
        "  def __init__(self) :\n",
        "    self.__age = 0\n",
        "\n",
        "  @property\n",
        "  def age (self):\n",
        "    return self.__age\n",
        "\n",
        "  @age.setter\n",
        "  def age(self,value):\n",
        "    if value <=0:\n",
        "      raise ValueError\n",
        "    self.__age = value\n",
        "\n",
        "  @age.deleter\n",
        "  def age(self):\n",
        "    del self.__age"
      ],
      "metadata": {
        "id": "ZRenstAiR-9X"
      },
      "execution_count": null,
      "outputs": []
    },
    {
      "cell_type": "code",
      "source": [
        "h=Human()\n",
        "h.age=40\n",
        "print(h.age)\n",
        "del h.age"
      ],
      "metadata": {
        "id": "5Nn0mE_WT7p2"
      },
      "execution_count": null,
      "outputs": []
    }
  ]
}