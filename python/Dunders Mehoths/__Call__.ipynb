{
  "nbformat": 4,
  "nbformat_minor": 0,
  "metadata": {
    "colab": {
      "private_outputs": true,
      "provenance": [],
      "authorship_tag": "ABX9TyO/zEDF1VOeA0qKJtoBnIoN",
      "include_colab_link": true
    },
    "kernelspec": {
      "name": "python3",
      "display_name": "Python 3"
    },
    "language_info": {
      "name": "python"
    }
  },
  "cells": [
    {
      "cell_type": "markdown",
      "metadata": {
        "id": "view-in-github",
        "colab_type": "text"
      },
      "source": [
        "<a href=\"https://colab.research.google.com/github/technologyhamed/Object-Oriented-Programming/blob/main/python/Dunders%20Mehoths/__Call__.ipynb\" target=\"_parent\"><img src=\"https://colab.research.google.com/assets/colab-badge.svg\" alt=\"Open In Colab\"/></a>"
      ]
    },
    {
      "cell_type": "markdown",
      "source": [
        "***در پایتون متد call به ما اجازه میده که نمونه هایی که از کلاس ها ایجاد میکنیم رو بتونیم مثل یک فانکشن صدا بزنیم***"
      ],
      "metadata": {
        "id": "wOO04daxVc0W"
      }
    },
    {
      "cell_type": "code",
      "source": [],
      "metadata": {
        "id": "c9EiKrLZWcos"
      },
      "execution_count": null,
      "outputs": []
    },
    {
      "cell_type": "code",
      "execution_count": null,
      "metadata": {
        "id": "ezaJU2PlVa2g"
      },
      "outputs": [],
      "source": [
        "class Human:\n",
        "  def __call__(self,name, *args, **kwds):\n",
        "    self.name = name"
      ]
    },
    {
      "cell_type": "code",
      "source": [
        "h=Human()\n",
        "h.name=\"Hamed\"\n",
        "print(h.name)\n",
        "\n",
        "# ***  فراخوانی کلاس به صورت تابع\n",
        "#\n",
        "h('Ehsan')\n",
        "print(h.name)"
      ],
      "metadata": {
        "id": "lkqDajbvWvFU"
      },
      "execution_count": null,
      "outputs": []
    }
  ]
}