{
  "nbformat": 4,
  "nbformat_minor": 0,
  "metadata": {
    "colab": {
      "private_outputs": true,
      "provenance": [],
      "authorship_tag": "ABX9TyOLXG7phPVjqgq4npqFGlRZ",
      "include_colab_link": true
    },
    "kernelspec": {
      "name": "python3",
      "display_name": "Python 3"
    },
    "language_info": {
      "name": "python"
    }
  },
  "cells": [
    {
      "cell_type": "markdown",
      "metadata": {
        "id": "view-in-github",
        "colab_type": "text"
      },
      "source": [
        "<a href=\"https://colab.research.google.com/github/technologyhamed/Object-Oriented-Programming/blob/main/python/Dunders%20Mehoths/__init__.ipynb\" target=\"_parent\"><img src=\"https://colab.research.google.com/assets/colab-badge.svg\" alt=\"Open In Colab\"/></a>"
      ]
    },
    {
      "cell_type": "markdown",
      "source": [
        "***در پایتون متد  new  مسئول ساخت یک کلاس جدید هست. متد  new تنها متدیست که قبل از متد init  اجرا شده و میتواند مانع فعال شدن متد init شود**"
      ],
      "metadata": {
        "id": "wOO04daxVc0W"
      }
    },
    {
      "cell_type": "code",
      "source": [
        "#__new__"
      ],
      "metadata": {
        "id": "c9EiKrLZWcos"
      },
      "execution_count": null,
      "outputs": []
    },
    {
      "cell_type": "code",
      "execution_count": null,
      "metadata": {
        "id": "ezaJU2PlVa2g"
      },
      "outputs": [],
      "source": [
        "class Human:\n",
        "\n",
        "  def __init__(self,name,*args, **kwds):\n",
        "    self.name = name\n",
        "\n",
        "  def __new__(cls ,name,*args,**kwds) :\n",
        "    if name == 'hamed' :\n",
        "     return None\n",
        "    return super().__new__(cls,*args,**kwds)\n",
        "\n",
        ""
      ]
    },
    {
      "cell_type": "code",
      "source": [
        "h=Human(\"hamed\")\n",
        "print(h.__class__.__class__)\n"
      ],
      "metadata": {
        "id": "lkqDajbvWvFU"
      },
      "execution_count": null,
      "outputs": []
    }
  ]
}