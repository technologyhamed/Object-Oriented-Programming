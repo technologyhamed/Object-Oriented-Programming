{
  "nbformat": 4,
  "nbformat_minor": 0,
  "metadata": {
    "colab": {
      "private_outputs": true,
      "provenance": [],
      "authorship_tag": "ABX9TyNly/hsG6eGK5GIm/j4oSdP",
      "include_colab_link": true
    },
    "kernelspec": {
      "name": "python3",
      "display_name": "Python 3"
    },
    "language_info": {
      "name": "python"
    }
  },
  "cells": [
    {
      "cell_type": "markdown",
      "metadata": {
        "id": "view-in-github",
        "colab_type": "text"
      },
      "source": [
        "<a href=\"https://colab.research.google.com/github/technologyhamed/Object-Oriented-Programming/blob/main/python/Meta_Classes.ipynb\" target=\"_parent\"><img src=\"https://colab.research.google.com/assets/colab-badge.svg\" alt=\"Open In Colab\"/></a>"
      ]
    },
    {
      "cell_type": "code",
      "execution_count": null,
      "metadata": {
        "id": "TQZfHiHhx620"
      },
      "outputs": [],
      "source": [
        "\"\"\"\n",
        "Meta class\n",
        "\"\"\""
      ]
    },
    {
      "cell_type": "markdown",
      "source": [
        "\"\"\"\n",
        "تغییر رفتار یک کلاس\n",
        "امکان دارد با دکوراتور ها تغییر داد\n",
        "\"\"\""
      ],
      "metadata": {
        "id": "db89RtqU2LJz"
      }
    },
    {
      "cell_type": "code",
      "source": [
        "def Singelton(type):\n",
        "    _instance = None\n",
        "\n",
        "    def __new_(cls,*args,**kwargs):\n",
        "      return cls\n",
        "\n",
        "    def __call__(self,*args,**kwargs) :\n",
        "      if self._instance is None:\n",
        "         self._instance = super(*args,**kwargs).__call__()\n",
        "      return self._instance\n",
        "\n",
        "\n",
        "def db(metaclass=Singelton):\n",
        "  pass\n",
        "\n",
        "s= Singelton(type)\n",
        "print(s)\n",
        "\n",
        "d1=db()\n",
        "d2=db()\n",
        "print(id(d1))\n",
        "print(id(d2))\n"
      ],
      "metadata": {
        "id": "_O2ulHoUyVet"
      },
      "execution_count": null,
      "outputs": []
    }
  ]
}