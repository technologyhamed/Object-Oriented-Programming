{
  "nbformat": 4,
  "nbformat_minor": 0,
  "metadata": {
    "colab": {
      "private_outputs": true,
      "provenance": [],
      "authorship_tag": "ABX9TyOiBY2c/5GJHR1BGGH5+KSV",
      "include_colab_link": true
    },
    "kernelspec": {
      "name": "python3",
      "display_name": "Python 3"
    },
    "language_info": {
      "name": "python"
    }
  },
  "cells": [
    {
      "cell_type": "markdown",
      "metadata": {
        "id": "view-in-github",
        "colab_type": "text"
      },
      "source": [
        "<a href=\"https://colab.research.google.com/github/technologyhamed/Object-Oriented-Programming/blob/main/python/Polymorphism.ipynb\" target=\"_parent\"><img src=\"https://colab.research.google.com/assets/colab-badge.svg\" alt=\"Open In Colab\"/></a>"
      ]
    },
    {
      "cell_type": "code",
      "execution_count": null,
      "metadata": {
        "id": "e_BfUmnvAVx5"
      },
      "outputs": [],
      "source": [
        "from abc import ABC , abstractmethod"
      ]
    },
    {
      "cell_type": "code",
      "source": [
        "class Animal(ABC):\n",
        "  def __init__(self , name) :\n",
        "    self.name=name\n",
        "\n",
        "  @abstractmethod\n",
        "  def Talk(self):\n",
        "    pass"
      ],
      "metadata": {
        "id": "lLK13C0FCI0Q"
      },
      "execution_count": null,
      "outputs": []
    },
    {
      "cell_type": "code",
      "source": [
        "class Cat (Animal):\n",
        "  def Talk(self):\n",
        "    print('meon...')\n",
        "\n",
        "class Dog(Animal):\n",
        "  def Talk(self):\n",
        "    print('wof....')"
      ],
      "metadata": {
        "id": "stJT_ndDC-mn"
      },
      "execution_count": null,
      "outputs": []
    },
    {
      "cell_type": "code",
      "source": [
        "c=Cat('Cat')\n",
        "d=Dog('Dog')\n",
        "c.Talk()\n",
        "d.Talk()"
      ],
      "metadata": {
        "id": "DjgbNAlmDnC_"
      },
      "execution_count": null,
      "outputs": []
    }
  ]
}